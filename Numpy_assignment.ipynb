{
 "cells": [
  {
   "cell_type": "markdown",
   "id": "00c12bdf",
   "metadata": {},
   "source": [
    "## Numpy Assigment"
   ]
  },
  {
   "cell_type": "markdown",
   "id": "adfbcbb8",
   "metadata": {},
   "source": [
    "**Into how many combination of 3D shape, a numpy array of size 96 can be reshaped?**"
   ]
  },
  {
   "cell_type": "markdown",
   "id": "67dded9d",
   "metadata": {},
   "source": [
    "**Ans:** 65 (Brute force)"
   ]
  },
  {
   "cell_type": "code",
   "execution_count": 1,
   "id": "63cb9438",
   "metadata": {},
   "outputs": [
    {
     "data": {
      "text/html": [
       "<div>\n",
       "<style scoped>\n",
       "    .dataframe tbody tr th:only-of-type {\n",
       "        vertical-align: middle;\n",
       "    }\n",
       "\n",
       "    .dataframe tbody tr th {\n",
       "        vertical-align: top;\n",
       "    }\n",
       "\n",
       "    .dataframe thead th {\n",
       "        text-align: right;\n",
       "    }\n",
       "</style>\n",
       "<table border=\"1\" class=\"dataframe\">\n",
       "  <thead>\n",
       "    <tr style=\"text-align: right;\">\n",
       "      <th></th>\n",
       "      <th>age</th>\n",
       "      <th>sex</th>\n",
       "      <th>cp</th>\n",
       "      <th>trestbps</th>\n",
       "      <th>chol</th>\n",
       "      <th>fbs</th>\n",
       "      <th>restecg</th>\n",
       "      <th>thalach</th>\n",
       "      <th>exang</th>\n",
       "      <th>oldpeak</th>\n",
       "      <th>slope</th>\n",
       "      <th>ca</th>\n",
       "      <th>thal</th>\n",
       "      <th>target</th>\n",
       "    </tr>\n",
       "  </thead>\n",
       "  <tbody>\n",
       "    <tr>\n",
       "      <th>0</th>\n",
       "      <td>63</td>\n",
       "      <td>1</td>\n",
       "      <td>3</td>\n",
       "      <td>145</td>\n",
       "      <td>233</td>\n",
       "      <td>1</td>\n",
       "      <td>0</td>\n",
       "      <td>150</td>\n",
       "      <td>0</td>\n",
       "      <td>2.3</td>\n",
       "      <td>0</td>\n",
       "      <td>0</td>\n",
       "      <td>1</td>\n",
       "      <td>1</td>\n",
       "    </tr>\n",
       "    <tr>\n",
       "      <th>1</th>\n",
       "      <td>37</td>\n",
       "      <td>1</td>\n",
       "      <td>2</td>\n",
       "      <td>130</td>\n",
       "      <td>250</td>\n",
       "      <td>0</td>\n",
       "      <td>1</td>\n",
       "      <td>187</td>\n",
       "      <td>0</td>\n",
       "      <td>3.5</td>\n",
       "      <td>0</td>\n",
       "      <td>0</td>\n",
       "      <td>2</td>\n",
       "      <td>1</td>\n",
       "    </tr>\n",
       "    <tr>\n",
       "      <th>2</th>\n",
       "      <td>41</td>\n",
       "      <td>0</td>\n",
       "      <td>1</td>\n",
       "      <td>130</td>\n",
       "      <td>204</td>\n",
       "      <td>0</td>\n",
       "      <td>0</td>\n",
       "      <td>172</td>\n",
       "      <td>0</td>\n",
       "      <td>1.4</td>\n",
       "      <td>2</td>\n",
       "      <td>0</td>\n",
       "      <td>2</td>\n",
       "      <td>1</td>\n",
       "    </tr>\n",
       "    <tr>\n",
       "      <th>3</th>\n",
       "      <td>56</td>\n",
       "      <td>1</td>\n",
       "      <td>1</td>\n",
       "      <td>120</td>\n",
       "      <td>236</td>\n",
       "      <td>0</td>\n",
       "      <td>1</td>\n",
       "      <td>178</td>\n",
       "      <td>0</td>\n",
       "      <td>0.8</td>\n",
       "      <td>2</td>\n",
       "      <td>0</td>\n",
       "      <td>2</td>\n",
       "      <td>1</td>\n",
       "    </tr>\n",
       "    <tr>\n",
       "      <th>4</th>\n",
       "      <td>57</td>\n",
       "      <td>0</td>\n",
       "      <td>0</td>\n",
       "      <td>120</td>\n",
       "      <td>354</td>\n",
       "      <td>0</td>\n",
       "      <td>1</td>\n",
       "      <td>163</td>\n",
       "      <td>1</td>\n",
       "      <td>0.6</td>\n",
       "      <td>2</td>\n",
       "      <td>0</td>\n",
       "      <td>2</td>\n",
       "      <td>1</td>\n",
       "    </tr>\n",
       "  </tbody>\n",
       "</table>\n",
       "</div>"
      ],
      "text/plain": [
       "   age  sex  cp  trestbps  chol  fbs  restecg  thalach  exang  oldpeak  slope  \\\n",
       "0   63    1   3       145   233    1        0      150      0      2.3      0   \n",
       "1   37    1   2       130   250    0        1      187      0      3.5      0   \n",
       "2   41    0   1       130   204    0        0      172      0      1.4      2   \n",
       "3   56    1   1       120   236    0        1      178      0      0.8      2   \n",
       "4   57    0   0       120   354    0        1      163      1      0.6      2   \n",
       "\n",
       "   ca  thal  target  \n",
       "0   0     1       1  \n",
       "1   0     2       1  \n",
       "2   0     2       1  \n",
       "3   0     2       1  \n",
       "4   0     2       1  "
      ]
     },
     "execution_count": 1,
     "metadata": {},
     "output_type": "execute_result"
    }
   ],
   "source": [
    "# Only for viewing csv data in better form.\n",
    "# Can be used for reference and comparing results.\n",
    "import pandas as pd\n",
    "df = pd.read_csv('heart-disease.csv')\n",
    "df.head()"
   ]
  },
  {
   "cell_type": "code",
   "execution_count": 2,
   "id": "c4583195",
   "metadata": {},
   "outputs": [],
   "source": [
    "import numpy as np"
   ]
  },
  {
   "cell_type": "markdown",
   "id": "affb887a",
   "metadata": {},
   "source": [
    "#### 1. Load CSV File:\n",
    "Load the CSV file using csv reader into a numpy array. Also convert each value to numerical."
   ]
  },
  {
   "cell_type": "code",
   "execution_count": 3,
   "id": "8be1c499",
   "metadata": {},
   "outputs": [
    {
     "name": "stdout",
     "output_type": "stream",
     "text": [
      "[[63.  1.  3. ...  0.  1.  1.]\n",
      " [37.  1.  2. ...  0.  2.  1.]\n",
      " [41.  0.  1. ...  0.  2.  1.]\n",
      " ...\n",
      " [68.  1.  0. ...  2.  3.  0.]\n",
      " [57.  1.  0. ...  1.  3.  0.]\n",
      " [57.  0.  1. ...  1.  2.  0.]]\n",
      "(303, 14)\n"
     ]
    }
   ],
   "source": [
    "from csv import reader\n",
    "\n",
    "with open('heart-disease.csv', 'r') as file:\n",
    "    raw_data = np.array(list(reader(file)))\n",
    "    \n",
    "raw_data_without_column = raw_data[1:] \n",
    "final_data = raw_data_without_column.astype('float32')\n",
    "print(final_data)\n",
    "print(final_data.shape)"
   ]
  },
  {
   "cell_type": "markdown",
   "id": "8cbf62a6",
   "metadata": {},
   "source": [
    "#### 2. Extract Specific Columns:\n",
    "Extract columns `age`, `chol`, and `thalach` from the CSV file and store them in a numpy array."
   ]
  },
  {
   "cell_type": "code",
   "execution_count": 4,
   "id": "6781bb08",
   "metadata": {},
   "outputs": [
    {
     "data": {
      "text/plain": [
       "array([[ 63., 233., 150.],\n",
       "       [ 37., 250., 187.],\n",
       "       [ 41., 204., 172.],\n",
       "       [ 56., 236., 178.],\n",
       "       [ 57., 354., 163.],\n",
       "       [ 57., 192., 148.],\n",
       "       [ 56., 294., 153.],\n",
       "       [ 44., 263., 173.],\n",
       "       [ 52., 199., 162.],\n",
       "       [ 57., 168., 174.],\n",
       "       [ 54., 239., 160.],\n",
       "       [ 48., 275., 139.],\n",
       "       [ 49., 266., 171.],\n",
       "       [ 64., 211., 144.],\n",
       "       [ 58., 283., 162.],\n",
       "       [ 50., 219., 158.],\n",
       "       [ 58., 340., 172.],\n",
       "       [ 66., 226., 114.],\n",
       "       [ 43., 247., 171.],\n",
       "       [ 69., 239., 151.],\n",
       "       [ 59., 234., 161.],\n",
       "       [ 44., 233., 179.],\n",
       "       [ 42., 226., 178.],\n",
       "       [ 61., 243., 137.],\n",
       "       [ 40., 199., 178.],\n",
       "       [ 71., 302., 162.],\n",
       "       [ 59., 212., 157.],\n",
       "       [ 51., 175., 123.],\n",
       "       [ 65., 417., 157.],\n",
       "       [ 53., 197., 152.],\n",
       "       [ 41., 198., 168.],\n",
       "       [ 65., 177., 140.],\n",
       "       [ 44., 219., 188.],\n",
       "       [ 54., 273., 152.],\n",
       "       [ 51., 213., 125.],\n",
       "       [ 46., 177., 160.],\n",
       "       [ 54., 304., 170.],\n",
       "       [ 54., 232., 165.],\n",
       "       [ 65., 269., 148.],\n",
       "       [ 65., 360., 151.],\n",
       "       [ 51., 308., 142.],\n",
       "       [ 48., 245., 180.],\n",
       "       [ 45., 208., 148.],\n",
       "       [ 53., 264., 143.],\n",
       "       [ 39., 321., 182.],\n",
       "       [ 52., 325., 172.],\n",
       "       [ 44., 235., 180.],\n",
       "       [ 47., 257., 156.],\n",
       "       [ 53., 216., 115.],\n",
       "       [ 53., 234., 160.],\n",
       "       [ 51., 256., 149.],\n",
       "       [ 66., 302., 151.],\n",
       "       [ 62., 231., 146.],\n",
       "       [ 44., 141., 175.],\n",
       "       [ 63., 252., 172.],\n",
       "       [ 52., 201., 158.],\n",
       "       [ 48., 222., 186.],\n",
       "       [ 45., 260., 185.],\n",
       "       [ 34., 182., 174.],\n",
       "       [ 57., 303., 159.],\n",
       "       [ 71., 265., 130.],\n",
       "       [ 54., 309., 156.],\n",
       "       [ 52., 186., 190.],\n",
       "       [ 41., 203., 132.],\n",
       "       [ 58., 211., 165.],\n",
       "       [ 35., 183., 182.],\n",
       "       [ 51., 222., 143.],\n",
       "       [ 45., 234., 175.],\n",
       "       [ 44., 220., 170.],\n",
       "       [ 62., 209., 163.],\n",
       "       [ 54., 258., 147.],\n",
       "       [ 51., 227., 154.],\n",
       "       [ 29., 204., 202.],\n",
       "       [ 51., 261., 186.],\n",
       "       [ 43., 213., 165.],\n",
       "       [ 55., 250., 161.],\n",
       "       [ 51., 245., 166.],\n",
       "       [ 59., 221., 164.],\n",
       "       [ 52., 205., 184.],\n",
       "       [ 58., 240., 154.],\n",
       "       [ 41., 250., 179.],\n",
       "       [ 45., 308., 170.],\n",
       "       [ 60., 318., 160.],\n",
       "       [ 52., 298., 178.],\n",
       "       [ 42., 265., 122.],\n",
       "       [ 67., 564., 160.],\n",
       "       [ 68., 277., 151.],\n",
       "       [ 46., 197., 156.],\n",
       "       [ 54., 214., 158.],\n",
       "       [ 58., 248., 122.],\n",
       "       [ 48., 255., 175.],\n",
       "       [ 57., 207., 168.],\n",
       "       [ 52., 223., 169.],\n",
       "       [ 54., 288., 159.],\n",
       "       [ 45., 160., 138.],\n",
       "       [ 53., 226., 111.],\n",
       "       [ 62., 394., 157.],\n",
       "       [ 52., 233., 147.],\n",
       "       [ 43., 315., 162.],\n",
       "       [ 53., 246., 173.],\n",
       "       [ 42., 244., 178.],\n",
       "       [ 59., 270., 145.],\n",
       "       [ 63., 195., 179.],\n",
       "       [ 42., 240., 194.],\n",
       "       [ 50., 196., 163.],\n",
       "       [ 68., 211., 115.],\n",
       "       [ 69., 234., 131.],\n",
       "       [ 45., 236., 152.],\n",
       "       [ 50., 244., 162.],\n",
       "       [ 50., 254., 159.],\n",
       "       [ 64., 325., 154.],\n",
       "       [ 57., 126., 173.],\n",
       "       [ 64., 313., 133.],\n",
       "       [ 43., 211., 161.],\n",
       "       [ 55., 262., 155.],\n",
       "       [ 37., 215., 170.],\n",
       "       [ 41., 214., 168.],\n",
       "       [ 56., 193., 162.],\n",
       "       [ 46., 204., 172.],\n",
       "       [ 46., 243., 152.],\n",
       "       [ 64., 303., 122.],\n",
       "       [ 59., 271., 182.],\n",
       "       [ 41., 268., 172.],\n",
       "       [ 54., 267., 167.],\n",
       "       [ 39., 199., 179.],\n",
       "       [ 34., 210., 192.],\n",
       "       [ 47., 204., 143.],\n",
       "       [ 67., 277., 172.],\n",
       "       [ 52., 196., 169.],\n",
       "       [ 74., 269., 121.],\n",
       "       [ 54., 201., 163.],\n",
       "       [ 49., 271., 162.],\n",
       "       [ 42., 295., 162.],\n",
       "       [ 41., 235., 153.],\n",
       "       [ 41., 306., 163.],\n",
       "       [ 49., 269., 163.],\n",
       "       [ 60., 178.,  96.],\n",
       "       [ 62., 208., 140.],\n",
       "       [ 57., 201., 126.],\n",
       "       [ 64., 263., 105.],\n",
       "       [ 51., 295., 157.],\n",
       "       [ 43., 303., 181.],\n",
       "       [ 42., 209., 173.],\n",
       "       [ 67., 223., 142.],\n",
       "       [ 76., 197., 116.],\n",
       "       [ 70., 245., 143.],\n",
       "       [ 44., 242., 149.],\n",
       "       [ 60., 240., 171.],\n",
       "       [ 44., 226., 169.],\n",
       "       [ 42., 180., 150.],\n",
       "       [ 66., 228., 138.],\n",
       "       [ 71., 149., 125.],\n",
       "       [ 64., 227., 155.],\n",
       "       [ 66., 278., 152.],\n",
       "       [ 39., 220., 152.],\n",
       "       [ 58., 197., 131.],\n",
       "       [ 47., 253., 179.],\n",
       "       [ 35., 192., 174.],\n",
       "       [ 58., 220., 144.],\n",
       "       [ 56., 221., 163.],\n",
       "       [ 56., 240., 169.],\n",
       "       [ 55., 342., 166.],\n",
       "       [ 41., 157., 182.],\n",
       "       [ 38., 175., 173.],\n",
       "       [ 38., 175., 173.],\n",
       "       [ 67., 286., 108.],\n",
       "       [ 67., 229., 129.],\n",
       "       [ 62., 268., 160.],\n",
       "       [ 63., 254., 147.],\n",
       "       [ 53., 203., 155.],\n",
       "       [ 56., 256., 142.],\n",
       "       [ 48., 229., 168.],\n",
       "       [ 58., 284., 160.],\n",
       "       [ 58., 224., 173.],\n",
       "       [ 60., 206., 132.],\n",
       "       [ 40., 167., 114.],\n",
       "       [ 60., 230., 160.],\n",
       "       [ 64., 335., 158.],\n",
       "       [ 43., 177., 120.],\n",
       "       [ 57., 276., 112.],\n",
       "       [ 55., 353., 132.],\n",
       "       [ 65., 225., 114.],\n",
       "       [ 61., 330., 169.],\n",
       "       [ 58., 230., 165.],\n",
       "       [ 50., 243., 128.],\n",
       "       [ 44., 290., 153.],\n",
       "       [ 60., 253., 144.],\n",
       "       [ 54., 266., 109.],\n",
       "       [ 50., 233., 163.],\n",
       "       [ 41., 172., 158.],\n",
       "       [ 51., 305., 142.],\n",
       "       [ 58., 216., 131.],\n",
       "       [ 54., 188., 113.],\n",
       "       [ 60., 282., 142.],\n",
       "       [ 60., 185., 155.],\n",
       "       [ 59., 326., 140.],\n",
       "       [ 46., 231., 147.],\n",
       "       [ 67., 254., 163.],\n",
       "       [ 62., 267.,  99.],\n",
       "       [ 65., 248., 158.],\n",
       "       [ 44., 197., 177.],\n",
       "       [ 60., 258., 141.],\n",
       "       [ 58., 270., 111.],\n",
       "       [ 68., 274., 150.],\n",
       "       [ 62., 164., 145.],\n",
       "       [ 52., 255., 161.],\n",
       "       [ 59., 239., 142.],\n",
       "       [ 60., 258., 157.],\n",
       "       [ 49., 188., 139.],\n",
       "       [ 59., 177., 162.],\n",
       "       [ 57., 229., 150.],\n",
       "       [ 61., 260., 140.],\n",
       "       [ 39., 219., 140.],\n",
       "       [ 61., 307., 146.],\n",
       "       [ 56., 249., 144.],\n",
       "       [ 43., 341., 136.],\n",
       "       [ 62., 263.,  97.],\n",
       "       [ 63., 330., 132.],\n",
       "       [ 65., 254., 127.],\n",
       "       [ 48., 256., 150.],\n",
       "       [ 63., 407., 154.],\n",
       "       [ 55., 217., 111.],\n",
       "       [ 65., 282., 174.],\n",
       "       [ 56., 288., 133.],\n",
       "       [ 54., 239., 126.],\n",
       "       [ 70., 174., 125.],\n",
       "       [ 62., 281., 103.],\n",
       "       [ 35., 198., 130.],\n",
       "       [ 59., 288., 159.],\n",
       "       [ 64., 309., 131.],\n",
       "       [ 47., 243., 152.],\n",
       "       [ 57., 289., 124.],\n",
       "       [ 55., 289., 145.],\n",
       "       [ 64., 246.,  96.],\n",
       "       [ 70., 322., 109.],\n",
       "       [ 51., 299., 173.],\n",
       "       [ 58., 300., 171.],\n",
       "       [ 60., 293., 170.],\n",
       "       [ 77., 304., 162.],\n",
       "       [ 35., 282., 156.],\n",
       "       [ 70., 269., 112.],\n",
       "       [ 59., 249., 143.],\n",
       "       [ 64., 212., 132.],\n",
       "       [ 57., 274.,  88.],\n",
       "       [ 56., 184., 105.],\n",
       "       [ 48., 274., 166.],\n",
       "       [ 56., 409., 150.],\n",
       "       [ 66., 246., 120.],\n",
       "       [ 54., 283., 195.],\n",
       "       [ 69., 254., 146.],\n",
       "       [ 51., 298., 122.],\n",
       "       [ 43., 247., 143.],\n",
       "       [ 62., 294., 106.],\n",
       "       [ 67., 299., 125.],\n",
       "       [ 59., 273., 125.],\n",
       "       [ 45., 309., 147.],\n",
       "       [ 58., 259., 130.],\n",
       "       [ 50., 200., 126.],\n",
       "       [ 62., 244., 154.],\n",
       "       [ 38., 231., 182.],\n",
       "       [ 66., 228., 165.],\n",
       "       [ 52., 230., 160.],\n",
       "       [ 53., 282.,  95.],\n",
       "       [ 63., 269., 169.],\n",
       "       [ 54., 206., 108.],\n",
       "       [ 66., 212., 132.],\n",
       "       [ 55., 327., 117.],\n",
       "       [ 49., 149., 126.],\n",
       "       [ 54., 286., 116.],\n",
       "       [ 56., 283., 103.],\n",
       "       [ 46., 249., 144.],\n",
       "       [ 61., 234., 145.],\n",
       "       [ 67., 237.,  71.],\n",
       "       [ 58., 234., 156.],\n",
       "       [ 47., 275., 118.],\n",
       "       [ 52., 212., 168.],\n",
       "       [ 58., 218., 105.],\n",
       "       [ 57., 261., 141.],\n",
       "       [ 58., 319., 152.],\n",
       "       [ 61., 166., 125.],\n",
       "       [ 42., 315., 125.],\n",
       "       [ 52., 204., 156.],\n",
       "       [ 59., 218., 134.],\n",
       "       [ 40., 223., 181.],\n",
       "       [ 61., 207., 138.],\n",
       "       [ 46., 311., 120.],\n",
       "       [ 59., 204., 162.],\n",
       "       [ 57., 232., 164.],\n",
       "       [ 57., 335., 143.],\n",
       "       [ 55., 205., 130.],\n",
       "       [ 61., 203., 161.],\n",
       "       [ 58., 318., 140.],\n",
       "       [ 58., 225., 146.],\n",
       "       [ 67., 212., 150.],\n",
       "       [ 44., 169., 144.],\n",
       "       [ 63., 187., 144.],\n",
       "       [ 63., 197., 136.],\n",
       "       [ 59., 176.,  90.],\n",
       "       [ 57., 241., 123.],\n",
       "       [ 45., 264., 132.],\n",
       "       [ 68., 193., 141.],\n",
       "       [ 57., 131., 115.],\n",
       "       [ 57., 236., 174.]], dtype=float32)"
      ]
     },
     "execution_count": 4,
     "metadata": {},
     "output_type": "execute_result"
    }
   ],
   "source": [
    "age_chol_thalach = final_data[:, [0, 4, 7]]\n",
    "age_chol_thalach"
   ]
  },
  {
   "cell_type": "markdown",
   "id": "ab39249f",
   "metadata": {},
   "source": [
    "#### 3. Filtering Data:\n",
    "Filter the rows where `sex` is `male` and `age` is greater than 50."
   ]
  },
  {
   "cell_type": "code",
   "execution_count": 5,
   "id": "a46c785a",
   "metadata": {},
   "outputs": [
    {
     "data": {
      "text/plain": [
       "array([[63.,  1.,  3., ...,  0.,  1.,  1.],\n",
       "       [56.,  1.,  1., ...,  0.,  2.,  1.],\n",
       "       [57.,  1.,  0., ...,  0.,  1.,  1.],\n",
       "       ...,\n",
       "       [59.,  1.,  0., ...,  2.,  1.,  0.],\n",
       "       [68.,  1.,  0., ...,  2.,  3.,  0.],\n",
       "       [57.,  1.,  0., ...,  1.,  3.,  0.]], dtype=float32)"
      ]
     },
     "execution_count": 5,
     "metadata": {},
     "output_type": "execute_result"
    }
   ],
   "source": [
    "male_greater_than_50 = final_data[(final_data[:, 1] == 1) & (final_data[:, 0] > 50)]\n",
    "male_greater_than_50"
   ]
  },
  {
   "cell_type": "markdown",
   "id": "c318d202",
   "metadata": {},
   "source": [
    "#### 4. Compute Statistics:\n",
    "Compute the mean and standard deviation of the `trestbps` column."
   ]
  },
  {
   "cell_type": "code",
   "execution_count": 6,
   "id": "379cf1fc",
   "metadata": {},
   "outputs": [
    {
     "data": {
      "text/plain": [
       "(131.62376, 17.509178)"
      ]
     },
     "execution_count": 6,
     "metadata": {},
     "output_type": "execute_result"
    }
   ],
   "source": [
    "mean = np.mean(final_data[:, 3])\n",
    "std_deviation = np.std(final_data[:, 3])\n",
    "mean, std_deviation"
   ]
  },
  {
   "cell_type": "markdown",
   "id": "ba0f9091",
   "metadata": {},
   "source": [
    "#### 5. Sorting Data:\n",
    "Sort the data based on the `thalach` column in descending order."
   ]
  },
  {
   "cell_type": "code",
   "execution_count": 7,
   "id": "c8746da3",
   "metadata": {},
   "outputs": [
    {
     "data": {
      "text/plain": [
       "array([[29.,  1.,  1., ...,  0.,  2.,  1.],\n",
       "       [54.,  1.,  1., ...,  1.,  3.,  0.],\n",
       "       [42.,  1.,  2., ...,  0.,  3.,  1.],\n",
       "       ...,\n",
       "       [59.,  1.,  0., ...,  2.,  1.,  0.],\n",
       "       [57.,  1.,  0., ...,  1.,  3.,  0.],\n",
       "       [67.,  1.,  0., ...,  0.,  2.,  0.]], dtype=float32)"
      ]
     },
     "execution_count": 7,
     "metadata": {},
     "output_type": "execute_result"
    }
   ],
   "source": [
    "sorted_indices = np.argsort(final_data[:, 7])[::-1] \n",
    "sorted_data_on_thalach = final_data[sorted_indices]\n",
    "sorted_data_on_thalach"
   ]
  },
  {
   "cell_type": "markdown",
   "id": "ae4e2426",
   "metadata": {},
   "source": [
    "#### 6. Writing to CSV:\n",
    "Write the filtered data from **Question 3** to a new CSV file named `\"filtered_data.csv\"`."
   ]
  },
  {
   "cell_type": "code",
   "execution_count": 8,
   "id": "a4da1fb0",
   "metadata": {},
   "outputs": [],
   "source": [
    "from csv import writer\n",
    "\n",
    "with open('filtered_data.csv', 'w', newline='') as file:\n",
    "    csv_writer = writer(file)\n",
    "    csv_writer.writerows(male_greater_than_50)"
   ]
  },
  {
   "cell_type": "markdown",
   "id": "91d389fb",
   "metadata": {},
   "source": [
    "#### 7. Conditional Counting:\n",
    "Count the number of male and female from `sex` column."
   ]
  },
  {
   "cell_type": "code",
   "execution_count": 9,
   "id": "21a185ef",
   "metadata": {},
   "outputs": [
    {
     "data": {
      "text/plain": [
       "(207.0, 96.0)"
      ]
     },
     "execution_count": 9,
     "metadata": {},
     "output_type": "execute_result"
    }
   ],
   "source": [
    "male_count = np.sum(final_data[:, 1])\n",
    "female_count = final_data.shape[0] - male_count\n",
    "male_count, female_count"
   ]
  },
  {
   "cell_type": "markdown",
   "id": "e3d0b138",
   "metadata": {},
   "source": [
    "#### 8. Conditional Filtering:\n",
    "Filter the rows where `thal` (thalassemia) is 2 or 3."
   ]
  },
  {
   "cell_type": "code",
   "execution_count": 10,
   "id": "0674b3fd",
   "metadata": {},
   "outputs": [
    {
     "data": {
      "text/plain": [
       "array([[37.,  1.,  2., ...,  0.,  2.,  1.],\n",
       "       [41.,  0.,  1., ...,  0.,  2.,  1.],\n",
       "       [56.,  1.,  1., ...,  0.,  2.,  1.],\n",
       "       ...,\n",
       "       [68.,  1.,  0., ...,  2.,  3.,  0.],\n",
       "       [57.,  1.,  0., ...,  1.,  3.,  0.],\n",
       "       [57.,  0.,  1., ...,  1.,  2.,  0.]], dtype=float32)"
      ]
     },
     "execution_count": 10,
     "metadata": {},
     "output_type": "execute_result"
    }
   ],
   "source": [
    "thal_filtered_rows = final_data[(final_data[:, 12] == 2) | (final_data[:, 12] == 3)]\n",
    "thal_filtered_rows"
   ]
  },
  {
   "cell_type": "markdown",
   "id": "2f69c353",
   "metadata": {},
   "source": [
    "### Broadcasting:\n",
    "Given two arrays A and B of shapes (3, 2) and (1, 2) respectively, perform element-wise addition using broadcasting."
   ]
  },
  {
   "cell_type": "code",
   "execution_count": 11,
   "id": "47d925ce",
   "metadata": {},
   "outputs": [
    {
     "name": "stdout",
     "output_type": "stream",
     "text": [
      "[[4 4]\n",
      " [1 6]\n",
      " [2 6]]\n",
      "\n",
      "[[5 8]]\n",
      "\n",
      "[[ 9 12]\n",
      " [ 6 14]\n",
      " [ 7 14]]\n"
     ]
    }
   ],
   "source": [
    "A = np.random.randint(0, 9, (3, 2))\n",
    "B = np.random.randint(0, 9, (1, 2))\n",
    "print(A, end='\\n\\n')\n",
    "print(B, end='\\n\\n')\n",
    "print(A + B)"
   ]
  },
  {
   "cell_type": "markdown",
   "id": "a1ca5e04",
   "metadata": {},
   "source": [
    "### Dot Product:\n",
    "Compute the dot product of two matrices A (shape: 3x4) and B (shape: 4x2)."
   ]
  },
  {
   "cell_type": "code",
   "execution_count": 12,
   "id": "2ba25c00",
   "metadata": {},
   "outputs": [
    {
     "name": "stdout",
     "output_type": "stream",
     "text": [
      "[[6 3 2 6]\n",
      " [0 6 7 2]\n",
      " [1 1 1 8]]\n",
      "\n",
      "[[5 5]\n",
      " [4 0]\n",
      " [6 3]\n",
      " [3 7]]\n",
      "\n",
      "[[72 78]\n",
      " [72 35]\n",
      " [39 64]]\n"
     ]
    }
   ],
   "source": [
    "A = np.random.randint(0, 9, (3, 4))\n",
    "B = np.random.randint(0, 9, (4, 2))\n",
    "\n",
    "print(A, end='\\n\\n')\n",
    "print(B, end='\\n\\n')\n",
    "\n",
    "print(np.dot(A, B))"
   ]
  },
  {
   "cell_type": "markdown",
   "id": "c6d1f311",
   "metadata": {},
   "source": [
    "### Sorting:\n",
    "Sort the elements of a 1D array arr in descending order."
   ]
  },
  {
   "cell_type": "code",
   "execution_count": 13,
   "id": "44040875",
   "metadata": {},
   "outputs": [
    {
     "name": "stdout",
     "output_type": "stream",
     "text": [
      "arr:  [7 2 7 6 7 0 8 6 0 5]\n",
      "sorted:  [8 7 7 7 6 6 5 2 0 0]\n"
     ]
    }
   ],
   "source": [
    "arr = np.random.randint(0, 9, 10)\n",
    "print('arr: ',arr)\n",
    "\n",
    "print('sorted: ',np.sort(arr)[::-1])"
   ]
  },
  {
   "cell_type": "markdown",
   "id": "dd498f53",
   "metadata": {},
   "source": [
    "### Counting:\n",
    "Count the number of occurrences of a specific value in a 2D array 'arr'."
   ]
  },
  {
   "cell_type": "code",
   "execution_count": 14,
   "id": "79859340",
   "metadata": {},
   "outputs": [
    {
     "name": "stdout",
     "output_type": "stream",
     "text": [
      "[[2 5 5 7]\n",
      " [7 1 6 0]\n",
      " [5 8 6 7]]\n",
      "\n",
      "Total number of 3 in arr:  0\n",
      "\n",
      " Total number for each number (number, counts): \n",
      " [(0, 1), (1, 1), (2, 1), (5, 3), (6, 2), (7, 3), (8, 1)]\n"
     ]
    }
   ],
   "source": [
    "arr = np.random.randint(0, 9, (3, 4))\n",
    "print(arr, end='\\n\\n')\n",
    "\n",
    "print('Total number of 3 in arr: ', np.count_nonzero(arr == 3))\n",
    "unique, total = np.unique(arr, return_counts=True)\n",
    "print('\\n Total number for each number (number, counts): \\n', list(zip(unique, total)))"
   ]
  },
  {
   "cell_type": "markdown",
   "id": "1f8447c8",
   "metadata": {},
   "source": [
    "### Reshaping and Resizing:\n",
    "Reshape a 1D array 'arr' of size 20 into a 2D array of shape (4, 5). Also resize it. Store them into variable and change one value in each case. Check original array and see the difference."
   ]
  },
  {
   "cell_type": "code",
   "execution_count": 15,
   "id": "eb396a32",
   "metadata": {},
   "outputs": [
    {
     "name": "stdout",
     "output_type": "stream",
     "text": [
      "[8 6 2 6 6 0 6 1 7 2 1 2 3 4 8 1 1 6 7 7]\n",
      "\n",
      "[[8 6 2 6 6]\n",
      " [0 6 1 7 2]\n",
      " [1 2 3 4 8]\n",
      " [1 1 6 7 7]]\n",
      "\n",
      "[[8 6 2 6 6]\n",
      " [0 6 1 7 2]\n",
      " [1 2 3 4 8]\n",
      " [1 1 6 7 7]]\n",
      "\n",
      "[8 6 2 6 6 0 6 1 7 2 1 2 3 4 8 1 1 6 7 7]\n",
      "\n",
      "[96  6  2  6  6  0  6  1  7  2  1  2  3  4  8  1  1  6  7  7]\n"
     ]
    }
   ],
   "source": [
    "arr = np.random.randint(0, 9, 20)\n",
    "print(arr, end='\\n\\n')\n",
    "\n",
    "reshaped_arr = arr.reshape(4, 5)\n",
    "print(reshaped_arr, end='\\n\\n')\n",
    "\n",
    "resized_arr = np.resize(arr, (4, 5))\n",
    "print(resized_arr, end='\\n\\n')\n",
    "\n",
    "resized_arr[0, 0] = 100\n",
    "print(arr, end='\\n\\n')\n",
    "\n",
    "reshaped_arr[0, 0] = 96\n",
    "print(arr)"
   ]
  },
  {
   "cell_type": "markdown",
   "id": "6d7b9a6a",
   "metadata": {},
   "source": [
    "### Flatten and Ravel:\n",
    "Flatten a 2D array 'arr; into a 1D array. Also Ravel it. Also store them into variable and change one value in each case. Check original array and see the difference."
   ]
  },
  {
   "cell_type": "code",
   "execution_count": 16,
   "id": "dfcead73",
   "metadata": {},
   "outputs": [
    {
     "name": "stdout",
     "output_type": "stream",
     "text": [
      "[[4 5 5]\n",
      " [6 0 8]]\n",
      "\n",
      "[4 5 5 6 0 8]\n",
      "\n",
      "[4 5 5 6 0 8]\n",
      "\n",
      "[[4 5 5]\n",
      " [6 0 8]]\n",
      "\n",
      "[[96  5  5]\n",
      " [ 6  0  8]]\n"
     ]
    }
   ],
   "source": [
    "arr = np.random.randint(0, 9, (2, 3))\n",
    "print(arr, end='\\n\\n')\n",
    "\n",
    "flatten_arr = arr.flatten()\n",
    "print(flatten_arr, end='\\n\\n')\n",
    "\n",
    "ravel_arr = arr.ravel()\n",
    "print(ravel_arr, end='\\n\\n')\n",
    "\n",
    "flatten_arr[0] = 100\n",
    "print(arr, end='\\n\\n')\n",
    "\n",
    "ravel_arr[0] = 96\n",
    "print(arr)"
   ]
  },
  {
   "cell_type": "markdown",
   "id": "3870ef5f",
   "metadata": {},
   "source": [
    "### View and Copy:\n",
    "Create a view of a 2D array 'arr' and modify one of its elements. Check if the original array is modified."
   ]
  },
  {
   "cell_type": "code",
   "execution_count": 17,
   "id": "aa1b9f63",
   "metadata": {},
   "outputs": [
    {
     "name": "stdout",
     "output_type": "stream",
     "text": [
      "[[1 8 6]\n",
      " [6 8 0]]\n",
      "\n",
      "[[1 8 6]\n",
      " [6 8 0]]\n",
      "\n",
      "[[100   8   6]\n",
      " [  6   8   0]]\n",
      "\n"
     ]
    }
   ],
   "source": [
    "arr = np.random.randint(0, 9, (2, 3))\n",
    "print(arr, end='\\n\\n')\n",
    "\n",
    "arr_view = arr.view()\n",
    "print(arr_view, end='\\n\\n')\n",
    "\n",
    "arr_view[0, 0] = 100\n",
    "print(arr, end='\\n\\n')"
   ]
  },
  {
   "cell_type": "markdown",
   "id": "3d2cd9b6",
   "metadata": {},
   "source": [
    "### Indexing and Slicing:\n",
    "Extract the first 3 rows and last 2 columns of a 2D array 'arr'."
   ]
  },
  {
   "cell_type": "code",
   "execution_count": 18,
   "id": "850c496c",
   "metadata": {},
   "outputs": [
    {
     "name": "stdout",
     "output_type": "stream",
     "text": [
      "[[7 3 5 0 4]\n",
      " [7 4 7 6 7]\n",
      " [8 2 1 8 1]\n",
      " [2 8 1 4 6]]\n",
      "\n",
      "[[0 4]\n",
      " [6 7]\n",
      " [8 1]]\n"
     ]
    }
   ],
   "source": [
    "arr = np.random.randint(0, 9, (4, 5))\n",
    "print(arr, end='\\n\\n')\n",
    "\n",
    "print(arr[:3, -2:])"
   ]
  },
  {
   "cell_type": "markdown",
   "id": "ae0b4366",
   "metadata": {},
   "source": [
    "### Element-wise Operations:\n",
    "Compute the square root of each element in a 2D array 'arr'."
   ]
  },
  {
   "cell_type": "code",
   "execution_count": 19,
   "id": "ceddf4f1",
   "metadata": {},
   "outputs": [
    {
     "name": "stdout",
     "output_type": "stream",
     "text": [
      "[[7 5 6 0]\n",
      " [0 3 1 0]\n",
      " [4 6 7 0]]\n",
      "\n",
      "[[2.64575131 2.23606798 2.44948974 0.        ]\n",
      " [0.         1.73205081 1.         0.        ]\n",
      " [2.         2.44948974 2.64575131 0.        ]]\n"
     ]
    }
   ],
   "source": [
    "arr = np.random.randint(0, 9, (3, 4))\n",
    "print(arr, end='\\n\\n')\n",
    "\n",
    "print(np.sqrt(arr))"
   ]
  },
  {
   "cell_type": "markdown",
   "id": "12e92cbe",
   "metadata": {},
   "source": [
    "### Statistical Operations:\n",
    "Compute the mean, median, and standard deviation of a 2D array 'arr'."
   ]
  },
  {
   "cell_type": "code",
   "execution_count": 20,
   "id": "38917ccc",
   "metadata": {},
   "outputs": [
    {
     "name": "stdout",
     "output_type": "stream",
     "text": [
      "[[0 4 0 3]\n",
      " [5 2 6 1]\n",
      " [0 4 2 0]]\n",
      "\n",
      "2.25\n",
      "2.0\n",
      "2.0463381929681126\n"
     ]
    }
   ],
   "source": [
    "arr = np.random.randint(0, 9, (3, 4))\n",
    "print(arr, end='\\n\\n')\n",
    "\n",
    "print(np.mean(arr))\n",
    "print(np.median(arr))\n",
    "print(np.std(arr))"
   ]
  },
  {
   "cell_type": "markdown",
   "id": "c0ddc1cd",
   "metadata": {},
   "source": [
    "### Boolean Indexing:\n",
    "Select elements from a 1D array 'arr' that are greater than a certain threshold."
   ]
  },
  {
   "cell_type": "code",
   "execution_count": 21,
   "id": "630e34f2",
   "metadata": {},
   "outputs": [
    {
     "name": "stdout",
     "output_type": "stream",
     "text": [
      "[4 7 7 3 3 1 8 8 1 8]\n",
      "\n",
      "[7 7 8 8 8]\n"
     ]
    }
   ],
   "source": [
    "arr = np.random.randint(0, 9, 10)\n",
    "print(arr, end='\\n\\n')\n",
    "\n",
    "print(arr[arr > 5])"
   ]
  },
  {
   "cell_type": "markdown",
   "id": "6e973219",
   "metadata": {},
   "source": [
    "### Concatenation:\n",
    "Concatenate two arrays A and B horizontally."
   ]
  },
  {
   "cell_type": "code",
   "execution_count": 22,
   "id": "33d6795a",
   "metadata": {},
   "outputs": [
    {
     "name": "stdout",
     "output_type": "stream",
     "text": [
      "[5 0 4 8 6]\n",
      "\n",
      "[0 2 2 8 0]\n",
      "\n",
      "[5 0 4 8 6 0 2 2 8 0]\n"
     ]
    }
   ],
   "source": [
    "A = np.random.randint(0, 9, 5)\n",
    "print(A, end='\\n\\n')\n",
    "\n",
    "B = np.random.randint(0, 9, 5)\n",
    "print(B, end='\\n\\n')\n",
    "\n",
    "print(np.concatenate((A, B), axis=0))"
   ]
  },
  {
   "cell_type": "markdown",
   "id": "08771b75",
   "metadata": {},
   "source": [
    "### Unique Elements:\n",
    "Find the unique elements in a 1D array 'arr'."
   ]
  },
  {
   "cell_type": "code",
   "execution_count": 23,
   "id": "95157fa5",
   "metadata": {},
   "outputs": [
    {
     "name": "stdout",
     "output_type": "stream",
     "text": [
      "[8 3 7 8 5 7 8 4 6 5]\n",
      "\n",
      "[0 4 5 6 8]\n"
     ]
    }
   ],
   "source": [
    "arr = np.random.randint(0, 9, 10)\n",
    "print(arr, end='\\n\\n')\n",
    "\n",
    "print(np.unique(A))"
   ]
  },
  {
   "cell_type": "markdown",
   "id": "f13e4c6c",
   "metadata": {},
   "source": [
    "### Transpose:\n",
    "Transpose a 2D array 'arr'."
   ]
  },
  {
   "cell_type": "code",
   "execution_count": 24,
   "id": "79c714b7",
   "metadata": {},
   "outputs": [
    {
     "name": "stdout",
     "output_type": "stream",
     "text": [
      "[[7 7 3]\n",
      " [4 0 8]]\n",
      "\n",
      "[[7 4]\n",
      " [7 0]\n",
      " [3 8]]\n"
     ]
    }
   ],
   "source": [
    "arr = np.random.randint(0, 9, (2, 3))\n",
    "print(arr, end='\\n\\n')\n",
    "\n",
    "print(arr.T)"
   ]
  },
  {
   "cell_type": "markdown",
   "id": "8f7faef6",
   "metadata": {},
   "source": [
    "### Matrix Inversion:\n",
    "Compute the inverse of a square matrix A."
   ]
  },
  {
   "cell_type": "code",
   "execution_count": 25,
   "id": "02ab8add",
   "metadata": {},
   "outputs": [
    {
     "name": "stdout",
     "output_type": "stream",
     "text": [
      "[[0 2 2]\n",
      " [4 1 7]\n",
      " [6 8 1]]\n",
      "\n",
      "[[-0.4296875  0.109375   0.09375  ]\n",
      " [ 0.296875  -0.09375    0.0625   ]\n",
      " [ 0.203125   0.09375   -0.0625   ]]\n"
     ]
    }
   ],
   "source": [
    "A = np.random.randint(0, 9, (3, 3))\n",
    "print(A, end='\\n\\n')\n",
    "\n",
    "print(np.linalg.inv(A))"
   ]
  },
  {
   "cell_type": "markdown",
   "id": "236ae7ed",
   "metadata": {},
   "source": [
    "### Cumulative Sum:\n",
    "Compute the cumulative sum of elements along a specified axis in a 2D array 'arr'."
   ]
  },
  {
   "cell_type": "code",
   "execution_count": 26,
   "id": "0e9465e1",
   "metadata": {},
   "outputs": [
    {
     "name": "stdout",
     "output_type": "stream",
     "text": [
      "[[4 8 0]\n",
      " [4 5 5]\n",
      " [2 7 1]\n",
      " [7 3 1]]\n",
      "\n",
      "Cumulative sum along x-axis: \n",
      "[[17 23  7]]\n",
      "\n",
      "Cumulative sum along y-axis: \n",
      "[[12]\n",
      " [14]\n",
      " [10]\n",
      " [11]]\n"
     ]
    }
   ],
   "source": [
    "arr = np.random.randint(0, 9, (4, 3))\n",
    "print(arr, end='\\n\\n')\n",
    "\n",
    "print('Cumulative sum along x-axis: ')\n",
    "print(np.sum(arr, axis=0, keepdims=True), end='\\n\\n')\n",
    "\n",
    "print('Cumulative sum along y-axis: ')\n",
    "print(np.sum(arr, axis=1, keepdims=True))"
   ]
  },
  {
   "cell_type": "markdown",
   "id": "4a579098",
   "metadata": {},
   "source": [
    "### Set Operations:\n",
    "Perform union, intersection, and difference of two 1D arrays A and B."
   ]
  },
  {
   "cell_type": "code",
   "execution_count": 27,
   "id": "d2d687b2",
   "metadata": {},
   "outputs": [
    {
     "name": "stdout",
     "output_type": "stream",
     "text": [
      "[ 6 16 19  9  4  3  3 19]\n",
      "\n",
      "[ 8 14  7  6  0 16  5  3]\n",
      "\n",
      "Union:  [ 0  3  4  5  6  7  8  9 14 16 19]\n",
      "\n",
      "Intersection:  [ 3  6 16]\n",
      "\n",
      "Difference:  [ 4  9 19]\n",
      "\n"
     ]
    }
   ],
   "source": [
    "A = np.random.randint(0, 20, 8)\n",
    "print(A, end='\\n\\n')\n",
    "\n",
    "B = np.random.randint(0, 20, 8)\n",
    "print(B, end='\\n\\n')\n",
    "\n",
    "print('Union: ', np.union1d(A, B), end='\\n\\n')\n",
    "\n",
    "print('Intersection: ', np.intersect1d(A, B), end='\\n\\n')\n",
    "\n",
    "print('Difference: ', np.setdiff1d(A, B), end='\\n\\n')"
   ]
  },
  {
   "cell_type": "markdown",
   "id": "1c82f341",
   "metadata": {},
   "source": [
    "### Random Sampling:\n",
    "Generate a random sample of size 10 from a 1D array 'arr'."
   ]
  },
  {
   "cell_type": "code",
   "execution_count": 28,
   "id": "92ce474f",
   "metadata": {},
   "outputs": [
    {
     "name": "stdout",
     "output_type": "stream",
     "text": [
      "[ 9 10  1 17  0  6 14  5 17  9 15  0  9 10 19 16  5  3 17 12  2 19  9 19\n",
      " 15 19 13  1 12 13 15  0  0  3  8  2 12 18 14  3  0 10  1 18  4 15 14  7\n",
      "  0  9 16  2  8 14 10 14  1  6  6 11  4 16 12  2 13 16 10  2 13  3  5 15\n",
      " 16  0 16  5  2 13  5 10 19 14 14  9 13  6 11 17  3 16 10 17  1 16  6  1\n",
      "  2  4 13 16]\n",
      "\n",
      "[10 17 13 12 19  8  1 16 16 15 18 16  0 14 13  0 11 15 16  6]\n"
     ]
    }
   ],
   "source": [
    "A = np.random.randint(0, 20, 100)\n",
    "print(A, end='\\n\\n')\n",
    "\n",
    "random_sample = np.random.choice(A, size=20)\n",
    "print(random_sample)"
   ]
  },
  {
   "cell_type": "code",
   "execution_count": null,
   "id": "303631ed",
   "metadata": {},
   "outputs": [],
   "source": []
  }
 ],
 "metadata": {
  "kernelspec": {
   "display_name": "Python 3 (ipykernel)",
   "language": "python",
   "name": "python3"
  },
  "language_info": {
   "codemirror_mode": {
    "name": "ipython",
    "version": 3
   },
   "file_extension": ".py",
   "mimetype": "text/x-python",
   "name": "python",
   "nbconvert_exporter": "python",
   "pygments_lexer": "ipython3",
   "version": "3.7.16"
  }
 },
 "nbformat": 4,
 "nbformat_minor": 5
}
